{
 "cells": [
  {
   "cell_type": "code",
   "execution_count": 3,
   "metadata": {},
   "outputs": [
    {
     "name": "stdout",
     "output_type": "stream",
     "text": [
      "enter nameravindra reddy\n"
     ]
    }
   ],
   "source": [
    "r=input(\"enter name\").split()"
   ]
  },
  {
   "cell_type": "code",
   "execution_count": 6,
   "metadata": {},
   "outputs": [
    {
     "name": "stdout",
     "output_type": "stream",
     "text": [
      "fname,lnameravindra reddy\n",
      "fname:- ravindra\n",
      "lname:- reddy\n"
     ]
    }
   ],
   "source": [
    "a,b=input(\"fname,lname\").split()\n",
    "print(\"fname:-\",a)\n",
    "print('lname:-',b)"
   ]
  },
  {
   "cell_type": "code",
   "execution_count": 8,
   "metadata": {},
   "outputs": [
    {
     "name": "stdout",
     "output_type": "stream",
     "text": [
      "two namesravindra reddy\n",
      "fname:- ravindra\n",
      "lname:- reddy\n"
     ]
    }
   ],
   "source": [
    "a,b=map(str,input(\"two names\").split())\n",
    "print(\"fname:-\",a)\n",
    "print('lname:-',b)"
   ]
  },
  {
   "cell_type": "code",
   "execution_count": 12,
   "metadata": {},
   "outputs": [
    {
     "name": "stdout",
     "output_type": "stream",
     "text": [
      "enter name age  Ravindrareddy 22\n"
     ]
    }
   ],
   "source": [
    "name,age=input(\"enter name age  \").split()"
   ]
  },
  {
   "cell_type": "code",
   "execution_count": 13,
   "metadata": {},
   "outputs": [
    {
     "name": "stdout",
     "output_type": "stream",
     "text": [
      "Ravindrareddy\n",
      "22\n"
     ]
    }
   ],
   "source": [
    "print(name)\n",
    "print(age)"
   ]
  },
  {
   "cell_type": "code",
   "execution_count": 15,
   "metadata": {},
   "outputs": [
    {
     "name": "stdout",
     "output_type": "stream",
     "text": [
      "mrr\n"
     ]
    }
   ],
   "source": [
    "name=\"M Ravindra Reddy\"\n",
    "res=\"\"\n",
    "for i in name.lower().split():\n",
    "    res+=i[0]\n",
    "print(res)"
   ]
  },
  {
   "cell_type": "code",
   "execution_count": 6,
   "metadata": {},
   "outputs": [
    {
     "name": "stdout",
     "output_type": "stream",
     "text": [
      "enter no2 3\n",
      "2\n",
      "3\n"
     ]
    }
   ],
   "source": [
    "x,y = input(\"enter no\").split()\n",
    "print(x)\n",
    "print(y)"
   ]
  },
  {
   "cell_type": "code",
   "execution_count": 7,
   "metadata": {},
   "outputs": [
    {
     "name": "stdout",
     "output_type": "stream",
     "text": [
      "ravindra-reddy\n",
      "first name ravindra\n",
      "last name reddy\n"
     ]
    }
   ],
   "source": [
    "x,y = map(str, input().split(\"-\"))\n",
    "print(\"first name\",x)\n",
    "print(\"last name\",y)"
   ]
  },
  {
   "cell_type": "code",
   "execution_count": null,
   "metadata": {},
   "outputs": [],
   "source": []
  }
 ],
 "metadata": {
  "kernelspec": {
   "display_name": "Python 3",
   "language": "python",
   "name": "python3"
  },
  "language_info": {
   "codemirror_mode": {
    "name": "ipython",
    "version": 3
   },
   "file_extension": ".py",
   "mimetype": "text/x-python",
   "name": "python",
   "nbconvert_exporter": "python",
   "pygments_lexer": "ipython3",
   "version": "3.6.8"
  }
 },
 "nbformat": 4,
 "nbformat_minor": 2
}
