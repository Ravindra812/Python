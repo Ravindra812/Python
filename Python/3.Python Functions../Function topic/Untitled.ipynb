{
 "cells": [
  {
   "cell_type": "code",
   "execution_count": 1,
   "metadata": {},
   "outputs": [],
   "source": [
    "def hello():\n",
    "    print(\"Hello\")"
   ]
  },
  {
   "cell_type": "code",
   "execution_count": 2,
   "metadata": {},
   "outputs": [
    {
     "name": "stdout",
     "output_type": "stream",
     "text": [
      "Hello\n"
     ]
    }
   ],
   "source": [
    "hello()"
   ]
  },
  {
   "cell_type": "code",
   "execution_count": 3,
   "metadata": {},
   "outputs": [],
   "source": [
    "def doc():\n",
    "    '''This is docstring'''\n",
    "    print(\"something\")\n",
    "    "
   ]
  },
  {
   "cell_type": "code",
   "execution_count": 4,
   "metadata": {},
   "outputs": [
    {
     "name": "stdout",
     "output_type": "stream",
     "text": [
      "something\n"
     ]
    }
   ],
   "source": [
    "doc()"
   ]
  },
  {
   "cell_type": "code",
   "execution_count": 5,
   "metadata": {},
   "outputs": [
    {
     "data": {
      "text/plain": [
       "'This is docstring'"
      ]
     },
     "execution_count": 5,
     "metadata": {},
     "output_type": "execute_result"
    }
   ],
   "source": [
    "doc.__doc__"
   ]
  },
  {
   "cell_type": "code",
   "execution_count": 8,
   "metadata": {},
   "outputs": [
    {
     "name": "stdout",
     "output_type": "stream",
     "text": [
      "hi\n"
     ]
    }
   ],
   "source": [
    "def h88():\n",
    "    print(\"hi\")\n",
    "h88()"
   ]
  },
  {
   "cell_type": "code",
   "execution_count": 9,
   "metadata": {},
   "outputs": [],
   "source": [
    "def add(a,b):\n",
    "    print(\"{}+{}={}\".format(a,b,a+b))"
   ]
  },
  {
   "cell_type": "code",
   "execution_count": 10,
   "metadata": {},
   "outputs": [
    {
     "name": "stdout",
     "output_type": "stream",
     "text": [
      "4+5=9\n"
     ]
    }
   ],
   "source": [
    "add(4,5)"
   ]
  },
  {
   "cell_type": "code",
   "execution_count": 11,
   "metadata": {},
   "outputs": [
    {
     "name": "stdout",
     "output_type": "stream",
     "text": [
      " 2\n",
      "2 X 1 = 2\n",
      "2 X 2 = 4\n",
      "2 X 3 = 6\n",
      "2 X 4 = 8\n",
      "2 X 5 = 10\n",
      "2 X 6 = 12\n",
      "2 X 7 = 14\n",
      "2 X 8 = 16\n",
      "2 X 9 = 18\n",
      "2 X 10 = 20\n"
     ]
    }
   ],
   "source": [
    "n=int(input(\" \"))\n",
    "for i in range(1,11):\n",
    "    print(\"{} X {} = {}\".format(n,i,n*i))"
   ]
  },
  {
   "cell_type": "code",
   "execution_count": 12,
   "metadata": {},
   "outputs": [],
   "source": [
    "def fun(a):\n",
    "    if a%2==0:\n",
    "        print(\"0\")\n",
    "    else:\n",
    "        print(\"1\")\n",
    "            "
   ]
  },
  {
   "cell_type": "code",
   "execution_count": 13,
   "metadata": {},
   "outputs": [
    {
     "name": "stdout",
     "output_type": "stream",
     "text": [
      "1\n"
     ]
    }
   ],
   "source": [
    "fun(7)"
   ]
  },
  {
   "cell_type": "code",
   "execution_count": 16,
   "metadata": {},
   "outputs": [],
   "source": [
    "def fun(a):\n",
    "    if a%2==0:\n",
    "        return(0)\n",
    "    else:\n",
    "        return(1)\n",
    "            "
   ]
  },
  {
   "cell_type": "code",
   "execution_count": 17,
   "metadata": {},
   "outputs": [
    {
     "data": {
      "text/plain": [
       "1"
      ]
     },
     "execution_count": 17,
     "metadata": {},
     "output_type": "execute_result"
    }
   ],
   "source": [
    "fun(7)"
   ]
  },
  {
   "cell_type": "code",
   "execution_count": 3,
   "metadata": {},
   "outputs": [
    {
     "name": "stdout",
     "output_type": "stream",
     "text": [
      "enter no4\n",
      "4 it is even\n"
     ]
    }
   ],
   "source": [
    "n=int(input(\"enter no\"))\n",
    "if n%2==0:\n",
    "    print(n,\"it is even\")\n",
    "else:\n",
    "    print(n,\"it if odd\")"
   ]
  },
  {
   "cell_type": "code",
   "execution_count": 8,
   "metadata": {},
   "outputs": [
    {
     "name": "stdout",
     "output_type": "stream",
     "text": [
      "11 is prime \n"
     ]
    }
   ],
   "source": [
    "n=11\n",
    "if n>1:\n",
    "    for i in range(2,n//2+1):\n",
    "        if n%i==0:\n",
    "            break\n",
    "    else:\n",
    "        print(n,\"is prime \")\n",
    "    "
   ]
  },
  {
   "cell_type": "code",
   "execution_count": 14,
   "metadata": {},
   "outputs": [
    {
     "name": "stdout",
     "output_type": "stream",
     "text": [
      "prime are 2\n",
      "prime are 3\n",
      "prime are 4\n",
      "prime are 5\n",
      "prime are 7\n",
      "prime are 11\n",
      "prime are 13\n",
      "prime are 17\n",
      "prime are 19\n",
      "prime are 23\n",
      "prime are 29\n",
      "prime are 31\n",
      "prime are 37\n",
      "prime are 41\n",
      "prime are 43\n",
      "prime are 47\n",
      "prime are 53\n",
      "prime are 59\n",
      "prime are 61\n",
      "prime are 67\n",
      "prime are 71\n",
      "prime are 73\n",
      "prime are 79\n",
      "prime are 83\n",
      "prime are 89\n",
      "prime are 97\n",
      "Total no of prime numbers:  26\n"
     ]
    }
   ],
   "source": [
    "st = 0\n",
    "for i in range(1,100):\n",
    "    if i>1:\n",
    "        for j in range(2,i//2):\n",
    "            if i%j==0:\n",
    "                break\n",
    "        else:\n",
    "            print(\"prime are\",i)\n",
    "            st += 1\n",
    "print ('Total no of prime numbers: ', st)"
   ]
  },
  {
   "cell_type": "code",
   "execution_count": 28,
   "metadata": {},
   "outputs": [
    {
     "name": "stdout",
     "output_type": "stream",
     "text": [
      "[7, 2, 8, 4, 1]\n",
      "changed list:  [2, 7, 8, 4, 1]\n",
      "changed list:  [2, 7, 4, 8, 1]\n",
      "changed list:  [2, 7, 4, 1, 8]\n",
      "changed list:  [2, 4, 7, 1, 8]\n",
      "changed list:  [2, 4, 1, 7, 8]\n",
      "changed list:  [2, 1, 4, 7, 8]\n",
      "changed list:  [1, 2, 4, 7, 8]\n",
      "[1, 2, 4, 7, 8]\n"
     ]
    }
   ],
   "source": [
    "a = [7, 2, 8, 4, 1]\n",
    "print (a)\n",
    "for i in range(0,len(a)):\n",
    "    for j in range(0,len(a)-i-1):\n",
    "        if(a[j]>a[j+1]):\n",
    "            temp=a[j]\n",
    "            a[j]=a[j+1]\n",
    "            a[j+1]=temp\n",
    "            print ('changed list: ', a)\n",
    "print (a)"
   ]
  },
  {
   "cell_type": "code",
   "execution_count": 21,
   "metadata": {},
   "outputs": [
    {
     "data": {
      "text/plain": [
       "15"
      ]
     },
     "execution_count": 21,
     "metadata": {},
     "output_type": "execute_result"
    }
   ],
   "source": [
    "arr=[1,2,3,4,5]\n",
    "def sum(arr):\n",
    "    res=0\n",
    "    for i in arr:\n",
    "        res+=i\n",
    "    return res\n",
    "sum(arr)"
   ]
  },
  {
   "cell_type": "code",
   "execution_count": 29,
   "metadata": {},
   "outputs": [],
   "source": [
    "def isprime(n):\n",
    "    if n>1:\n",
    "        for i in range(2,n+1):\n",
    "            if n%i==0:\n",
    "                return n,\"not prime\"\n",
    "        else:\n",
    "            return n,\"prime\""
   ]
  },
  {
   "cell_type": "code",
   "execution_count": 32,
   "metadata": {},
   "outputs": [
    {
     "data": {
      "text/plain": [
       "(2, 'not prime')"
      ]
     },
     "execution_count": 32,
     "metadata": {},
     "output_type": "execute_result"
    }
   ],
   "source": [
    "isprime(2)"
   ]
  },
  {
   "cell_type": "code",
   "execution_count": 33,
   "metadata": {},
   "outputs": [
    {
     "name": "stdout",
     "output_type": "stream",
     "text": [
      "no is 2\n",
      "2\n",
      "4\n",
      "8\n",
      "16\n"
     ]
    }
   ],
   "source": [
    "n=int(input(\"no is \"))\n",
    "for i in range(1,5):\n",
    "    print(n**i)"
   ]
  },
  {
   "cell_type": "code",
   "execution_count": 53,
   "metadata": {},
   "outputs": [
    {
     "name": "stdout",
     "output_type": "stream",
     "text": [
      "no is2\n"
     ]
    },
    {
     "data": {
      "text/plain": [
       "[2, 4, 8, 16]"
      ]
     },
     "execution_count": 53,
     "metadata": {},
     "output_type": "execute_result"
    }
   ],
   "source": [
    "n=int(input(\"no is\"))\n",
    "ar=[1,2,3,4]\n",
    "res=[]\n",
    "def power(ar):\n",
    "    for i in ar:\n",
    "        res.append(n**i)\n",
    "    return res\n",
    "power(ar) "
   ]
  },
  {
   "cell_type": "code",
   "execution_count": 61,
   "metadata": {},
   "outputs": [
    {
     "name": "stdout",
     "output_type": "stream",
     "text": [
      "2\n",
      "4\n",
      "8\n",
      "16\n"
     ]
    }
   ],
   "source": [
    "def power(n):\n",
    "    for i in range(1,5):\n",
    "        print(n**i)\n",
    "power(2)"
   ]
  },
  {
   "cell_type": "code",
   "execution_count": 62,
   "metadata": {},
   "outputs": [
    {
     "name": "stdout",
     "output_type": "stream",
     "text": [
      "[4, 10, 12, 21]\n"
     ]
    }
   ],
   "source": [
    "from itertools import *\n",
    "from operator import *\n",
    "list1 = [4, 6, 2, 9]\n",
    "print (list(accumulate(list1)))\n"
   ]
  },
  {
   "cell_type": "code",
   "execution_count": 63,
   "metadata": {},
   "outputs": [],
   "source": [
    "var=lambda x,y:x*y"
   ]
  },
  {
   "cell_type": "code",
   "execution_count": 64,
   "metadata": {},
   "outputs": [
    {
     "data": {
      "text/plain": [
       "12"
      ]
     },
     "execution_count": 64,
     "metadata": {},
     "output_type": "execute_result"
    }
   ],
   "source": [
    "var(3,4)"
   ]
  },
  {
   "cell_type": "code",
   "execution_count": 73,
   "metadata": {},
   "outputs": [
    {
     "ename": "TypeError",
     "evalue": "can't multiply sequence by non-int of type 'list'",
     "output_type": "error",
     "traceback": [
      "\u001b[0;31m---------------------------------------------------------------------------\u001b[0m",
      "\u001b[0;31mTypeError\u001b[0m                                 Traceback (most recent call last)",
      "\u001b[0;32m<ipython-input-73-d7d9a13b5dda>\u001b[0m in \u001b[0;36m<module>\u001b[0;34m\u001b[0m\n\u001b[1;32m      2\u001b[0m \u001b[0;32mdef\u001b[0m \u001b[0mpro\u001b[0m\u001b[0;34m(\u001b[0m\u001b[0mx\u001b[0m\u001b[0;34m)\u001b[0m\u001b[0;34m:\u001b[0m\u001b[0;34m\u001b[0m\u001b[0;34m\u001b[0m\u001b[0m\n\u001b[1;32m      3\u001b[0m      \u001b[0;32mreturn\u001b[0m \u001b[0;34m(\u001b[0m\u001b[0mx\u001b[0m\u001b[0;34m*\u001b[0m\u001b[0mx\u001b[0m\u001b[0;34m)\u001b[0m\u001b[0;34m\u001b[0m\u001b[0;34m\u001b[0m\u001b[0m\n\u001b[0;32m----> 4\u001b[0;31m \u001b[0mpro\u001b[0m\u001b[0;34m(\u001b[0m\u001b[0mx\u001b[0m\u001b[0;34m)\u001b[0m\u001b[0;34m\u001b[0m\u001b[0;34m\u001b[0m\u001b[0m\n\u001b[0m",
      "\u001b[0;32m<ipython-input-73-d7d9a13b5dda>\u001b[0m in \u001b[0;36mpro\u001b[0;34m(x)\u001b[0m\n\u001b[1;32m      1\u001b[0m \u001b[0mx\u001b[0m\u001b[0;34m=\u001b[0m\u001b[0;34m[\u001b[0m\u001b[0;36m1\u001b[0m\u001b[0;34m,\u001b[0m\u001b[0;36m2\u001b[0m\u001b[0;34m,\u001b[0m\u001b[0;36m3\u001b[0m\u001b[0;34m,\u001b[0m\u001b[0;36m4\u001b[0m\u001b[0;34m]\u001b[0m\u001b[0;34m\u001b[0m\u001b[0;34m\u001b[0m\u001b[0m\n\u001b[1;32m      2\u001b[0m \u001b[0;32mdef\u001b[0m \u001b[0mpro\u001b[0m\u001b[0;34m(\u001b[0m\u001b[0mx\u001b[0m\u001b[0;34m)\u001b[0m\u001b[0;34m:\u001b[0m\u001b[0;34m\u001b[0m\u001b[0;34m\u001b[0m\u001b[0m\n\u001b[0;32m----> 3\u001b[0;31m      \u001b[0;32mreturn\u001b[0m \u001b[0;34m(\u001b[0m\u001b[0mx\u001b[0m\u001b[0;34m*\u001b[0m\u001b[0mx\u001b[0m\u001b[0;34m)\u001b[0m\u001b[0;34m\u001b[0m\u001b[0;34m\u001b[0m\u001b[0m\n\u001b[0m\u001b[1;32m      4\u001b[0m \u001b[0mpro\u001b[0m\u001b[0;34m(\u001b[0m\u001b[0mx\u001b[0m\u001b[0;34m)\u001b[0m\u001b[0;34m\u001b[0m\u001b[0;34m\u001b[0m\u001b[0m\n",
      "\u001b[0;31mTypeError\u001b[0m: can't multiply sequence by non-int of type 'list'"
     ]
    }
   ],
   "source": [
    "x=[1,2,3,4]\n",
    "def pro(x):\n",
    "     return (x*x)\n",
    "pro(x)"
   ]
  },
  {
   "cell_type": "code",
   "execution_count": 75,
   "metadata": {},
   "outputs": [
    {
     "data": {
      "text/plain": [
       "[1, 4, 9, 16]"
      ]
     },
     "execution_count": 75,
     "metadata": {},
     "output_type": "execute_result"
    }
   ],
   "source": [
    "list(map(pro,x))"
   ]
  },
  {
   "cell_type": "code",
   "execution_count": 78,
   "metadata": {},
   "outputs": [
    {
     "data": {
      "text/plain": [
       "[1, 4, 9, 16]"
      ]
     },
     "execution_count": 78,
     "metadata": {},
     "output_type": "execute_result"
    }
   ],
   "source": [
    "list(map(lambda x:x*x,x))"
   ]
  },
  {
   "cell_type": "code",
   "execution_count": 11,
   "metadata": {},
   "outputs": [
    {
     "name": "stdout",
     "output_type": "stream",
     "text": [
      "enter 1 no3\n",
      "enter 2 no5\n",
      "lcm is  15\n"
     ]
    }
   ],
   "source": [
    "a=int(input(\"enter 1 no\"))\n",
    "b=int(input(\"enter 2 no\"))\n",
    "if a>b:\n",
    "    min=a\n",
    "else:\n",
    "    min=b\n",
    "while (1):\n",
    "    if min %a==0 and min % b == 0:\n",
    "        print(\"lcm is \",min)\n",
    "        break\n",
    "    min+=1"
   ]
  },
  {
   "cell_type": "code",
   "execution_count": 15,
   "metadata": {},
   "outputs": [
    {
     "name": "stdout",
     "output_type": "stream",
     "text": [
      "lcm is  15\n"
     ]
    },
    {
     "data": {
      "text/plain": [
       "15"
      ]
     },
     "execution_count": 15,
     "metadata": {},
     "output_type": "execute_result"
    }
   ],
   "source": [
    "def lcm(a,b):\n",
    "    if a>b:\n",
    "        min=a\n",
    "    else:\n",
    "        min=b\n",
    "    while (1):\n",
    "        if min %a==0 and min % b == 0:\n",
    "            print(\"lcm is \",min)\n",
    "            break\n",
    "        min+=1\n",
    "    return min\n",
    "lcm(3,5)"
   ]
  },
  {
   "cell_type": "code",
   "execution_count": 46,
   "metadata": {},
   "outputs": [
    {
     "name": "stdout",
     "output_type": "stream",
     "text": [
      "what change 3\n",
      "whhs 27\n",
      "what change 5\n",
      "whhs 152\n",
      "what change 1\n",
      "whhs 153\n",
      "num is armstrong 153\n"
     ]
    }
   ],
   "source": [
    "n=153\n",
    "temp=n\n",
    "order=len(str(n))\n",
    "sum=0\n",
    "while(temp!=0):\n",
    "    digit=temp%10\n",
    "    print(\"what change\",digit)\n",
    "    sum+=digit**order\n",
    "    print(\"whhs\",sum)\n",
    "    temp=temp//10\n",
    "    \n",
    "if sum==n:\n",
    "    print(\"num is armstrong\",n)\n",
    "else: \n",
    "    print(\"num is not armstrong\",n)"
   ]
  },
  {
   "cell_type": "code",
   "execution_count": 1,
   "metadata": {},
   "outputs": [],
   "source": [
    "def adj_remove(nums):\n",
    "    newlist=[]\n",
    "    for i in nums:\n",
    "        if i not in newlist:\n",
    "            newlist.append(i)\n",
    "    newlist.sort()\n",
    "    return newlist"
   ]
  },
  {
   "cell_type": "code",
   "execution_count": 2,
   "metadata": {},
   "outputs": [
    {
     "data": {
      "text/plain": [
       "[1, 2, 3]"
      ]
     },
     "execution_count": 2,
     "metadata": {},
     "output_type": "execute_result"
    }
   ],
   "source": [
    "adj_remove([1,2,2,2,3,3,2,2,1,1,1])"
   ]
  },
  {
   "cell_type": "code",
   "execution_count": 10,
   "metadata": {},
   "outputs": [
    {
     "name": "stdout",
     "output_type": "stream",
     "text": [
      "len [1]\n",
      "len [1]\n",
      "len [1]\n",
      "fg [1]\n",
      "len [1, 2]\n",
      "len [1, 2]\n",
      "len [1, 2]\n",
      "fg [1, 2]\n",
      "len [1, 2, 3]\n",
      "len [1, 2, 3]\n",
      "len [1, 2, 3]\n",
      "fg [1, 2, 3]\n",
      "len [1, 2, 3, 2]\n",
      "len [1, 2, 3, 2]\n",
      "len [1, 2, 3, 2]\n",
      "fg [1, 2, 3, 2]\n",
      "len [1, 2, 3, 2, 1]\n",
      "len [1, 2, 3, 2, 1]\n"
     ]
    },
    {
     "data": {
      "text/plain": [
       "[1, 2, 3, 2, 1]"
      ]
     },
     "execution_count": 10,
     "metadata": {},
     "output_type": "execute_result"
    }
   ],
   "source": [
    "def adj(nums):\n",
    "    new=[]\n",
    "    for i in nums:\n",
    "        if len(new):\n",
    "            print(\"len\",new)\n",
    "            if new[-1]!=i:\n",
    "                print(\"fg\",new)\n",
    "                new.append(i)\n",
    "                \n",
    "        else:\n",
    "            new.append(i)\n",
    "    return new\n",
    "adj([1,1,1,2,2,2,3,3,3,2,2,2,1,1,1])        "
   ]
  },
  {
   "cell_type": "code",
   "execution_count": 1,
   "metadata": {},
   "outputs": [],
   "source": [
    "def adjr(nums):\n",
    "    new=[]\n",
    "    for i in nums:\n",
    "        if len(new):\n",
    "            if new[-1]!=i:\n",
    "                new.append(i)\n",
    "        else:\n",
    "            new.append(i)\n",
    "    return new"
   ]
  },
  {
   "cell_type": "code",
   "execution_count": 2,
   "metadata": {},
   "outputs": [
    {
     "data": {
      "text/plain": [
       "[1, 2, 3, 2, 1]"
      ]
     },
     "execution_count": 2,
     "metadata": {},
     "output_type": "execute_result"
    }
   ],
   "source": [
    "adjr([1,1,1,2,2,2,3,3,3,2,2,2,1,1,1])"
   ]
  },
  {
   "cell_type": "code",
   "execution_count": 10,
   "metadata": {},
   "outputs": [
    {
     "name": "stdout",
     "output_type": "stream",
     "text": [
      "leap year\n",
      "leap year\n"
     ]
    }
   ],
   "source": [
    "def leap(year):\n",
    "    if (year%4==0 and year%100!=0 or year%400==0):\n",
    "        return \"leap year\"\n",
    "    else:\n",
    "        return \"not leap year\"\n",
    "print(leap(2016))\n",
    "print(leap(2000))"
   ]
  },
  {
   "cell_type": "code",
   "execution_count": 11,
   "metadata": {},
   "outputs": [
    {
     "data": {
      "text/plain": [
       "'not leap year'"
      ]
     },
     "execution_count": 11,
     "metadata": {},
     "output_type": "execute_result"
    }
   ],
   "source": [
    "leap(2017)"
   ]
  },
  {
   "cell_type": "code",
   "execution_count": 12,
   "metadata": {},
   "outputs": [
    {
     "data": {
      "text/plain": [
       "'not leap year'"
      ]
     },
     "execution_count": 12,
     "metadata": {},
     "output_type": "execute_result"
    }
   ],
   "source": [
    "leap(1900)"
   ]
  },
  {
   "cell_type": "code",
   "execution_count": 19,
   "metadata": {},
   "outputs": [
    {
     "name": "stdout",
     "output_type": "stream",
     "text": [
      "\n",
      "R\n",
      "Ra\n",
      "Rav\n",
      "Ravi\n",
      "Ravin\n",
      "Ravind\n",
      "Ravindr\n",
      "Ravindra\n"
     ]
    }
   ],
   "source": [
    "n=\"Ravindra\"\n",
    "for i in range(len(n)+1):\n",
    "    print(n[:i:])"
   ]
  },
  {
   "cell_type": "code",
   "execution_count": 28,
   "metadata": {},
   "outputs": [
    {
     "data": {
      "text/plain": [
       "'ell'"
      ]
     },
     "execution_count": 28,
     "metadata": {},
     "output_type": "execute_result"
    }
   ],
   "source": [
    "def end(st):\n",
    "    return st[1:-1]\n",
    "end(\"hello\")"
   ]
  },
  {
   "cell_type": "code",
   "execution_count": 26,
   "metadata": {},
   "outputs": [],
   "source": [
    "a=\"Hello\""
   ]
  },
  {
   "cell_type": "code",
   "execution_count": 27,
   "metadata": {},
   "outputs": [
    {
     "data": {
      "text/plain": [
       "'ell'"
      ]
     },
     "execution_count": 27,
     "metadata": {},
     "output_type": "execute_result"
    }
   ],
   "source": [
    "a[1:-1]"
   ]
  },
  {
   "cell_type": "code",
   "execution_count": 37,
   "metadata": {},
   "outputs": [
    {
     "data": {
      "text/plain": [
       "'ellohi'"
      ]
     },
     "execution_count": 37,
     "metadata": {},
     "output_type": "execute_result"
    }
   ],
   "source": [
    "def fir(a,b):\n",
    "    res=a[1:]\n",
    "    return res+b\n",
    "fir(\"hello\",\"hi\")"
   ]
  },
  {
   "cell_type": "code",
   "execution_count": null,
   "metadata": {},
   "outputs": [],
   "source": []
  }
 ],
 "metadata": {
  "kernelspec": {
   "display_name": "Python 2",
   "language": "python",
   "name": "python2"
  },
  "language_info": {
   "codemirror_mode": {
    "name": "ipython",
    "version": 3
   },
   "file_extension": ".py",
   "mimetype": "text/x-python",
   "name": "python",
   "nbconvert_exporter": "python",
   "pygments_lexer": "ipython3",
   "version": "3.6.8"
  }
 },
 "nbformat": 4,
 "nbformat_minor": 2
}
